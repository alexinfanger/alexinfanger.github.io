{
 "cells": [
  {
   "cell_type": "code",
   "execution_count": 5,
   "metadata": {},
   "outputs": [
    {
     "name": "stderr",
     "output_type": "stream",
     "text": [
      "┌ Info: Precompiling CSV [336ed68f-0bac-5ca0-87d4-7b16caf5d00b]\n",
      "└ @ Base loading.jl:1186\n"
     ]
    }
   ],
   "source": [
    "include(\"MC_functions.jl\")\n",
    "using LinearAlgebra\n",
    "using LinearAlgebra\n",
    "using SparseArrays\n",
    "using DifferentialEquations\n",
    "using ODEInterfaceDiffEq\n",
    "using LSODA\n",
    "using CSV"
   ]
  },
  {
   "cell_type": "code",
   "execution_count": 64,
   "metadata": {},
   "outputs": [
    {
     "name": "stdout",
     "output_type": "stream",
     "text": [
      "it can't be\n"
     ]
    },
    {
     "data": {
      "text/plain": [
       "1.6173119797169054e-11"
      ]
     },
     "execution_count": 64,
     "metadata": {},
     "output_type": "execute_result"
    }
   ],
   "source": [
    "print(\"it can't be\\n\")\n",
    "S = 200\n",
    "t = 2\n",
    "lambd = 1\n",
    "mu = 1\n",
    "p =[mu, lambd, S]\n",
    "mu_0 = zeros(1,S+1)\n",
    "mu_0[1]=1\n",
    "prob = ODEProblem(Infinite_Server_dudt, mu_0, (0.0,t),[mu, lambd, S])\n",
    "ODE_obj = solve(prob, reltol=1e-8,abstol=1e-8) \n",
    "ODE_sol = ODE_obj.u[end,:][1]\n",
    "true_sol = Infinite_Server_closed_form(S, t, lambd,mu)\n",
    "norm(true_sol'-ODE_sol)\n"
   ]
  },
  {
   "cell_type": "code",
   "execution_count": 7,
   "metadata": {},
   "outputs": [
    {
     "data": {
      "text/plain": [
       "CSV.File(\"Q_d.csv\", rows=350):\n",
       "Tables.Schema:\n",
       " Symbol(\"-1.000000000000000284e+02\")     Union{Missing, Float64}\n",
       " Symbol(\"1.000000000000000284e+02\")      Union{Missing, Float64}\n",
       " Symbol(\"0.000000000000000000e+00\")      Union{Missing, Float64}\n",
       " Symbol(\"0.000000000000000000e+00_1\")    Union{Missing, Float64}\n",
       " Symbol(\"0.000000000000000000e+00_2\")    Union{Missing, Float64}\n",
       " Symbol(\"0.000000000000000000e+00_3\")    Union{Missing, Float64}\n",
       " Symbol(\"0.000000000000000000e+00_4\")    Union{Missing, Float64}\n",
       " Symbol(\"0.000000000000000000e+00_5\")    Union{Missing, Float64}\n",
       " Symbol(\"0.000000000000000000e+00_6\")    Union{Missing, Float64}\n",
       " Symbol(\"0.000000000000000000e+00_7\")    Union{Missing, Float64}\n",
       " Symbol(\"0.000000000000000000e+00_8\")    Union{Missing, Float64}\n",
       " Symbol(\"0.000000000000000000e+00_9\")    Union{Missing, Float64}\n",
       " Symbol(\"0.000000000000000000e+00_10\")   Union{Missing, Float64}\n",
       " ⋮                                                              \n",
       " Symbol(\"0.000000000000000000e+00_337\")  Union{Missing, Float64}\n",
       " Symbol(\"0.000000000000000000e+00_338\")  Union{Missing, Float64}\n",
       " Symbol(\"0.000000000000000000e+00_339\")  Union{Missing, Float64}\n",
       " Symbol(\"0.000000000000000000e+00_340\")  Union{Missing, Float64}\n",
       " Symbol(\"0.000000000000000000e+00_341\")  Union{Missing, Float64}\n",
       " Symbol(\"0.000000000000000000e+00_342\")  Union{Missing, Float64}\n",
       " Symbol(\"0.000000000000000000e+00_343\")  Union{Missing, Float64}\n",
       " Symbol(\"0.000000000000000000e+00_344\")  Union{Missing, Float64}\n",
       " Symbol(\"0.000000000000000000e+00_345\")  Union{Missing, Float64}\n",
       " Symbol(\"0.000000000000000000e+00_346\")  Union{Missing, Float64}\n",
       " Symbol(\"0.000000000000000000e+00_347\")  Union{Missing, Float64}\n",
       " Symbol(\"0.000000000000000000e+00_348\")  Union{Missing, Float64}"
      ]
     },
     "execution_count": 7,
     "metadata": {},
     "output_type": "execute_result"
    }
   ],
   "source": [
    "Q_d = CSV.File(\"Q_d.csv\")\n",
    "m = Matrix{Float64}(CSV.read(\"Q_d.csv\", header=0, delim=','))"
   ]
  },
  {
   "cell_type": "code",
   "execution_count": 8,
   "metadata": {},
   "outputs": [
    {
     "data": {
      "text/plain": [
       "CSV.File(\"Q_d.csv\", rows=350):\n",
       "Tables.Schema:\n",
       " Symbol(\"-1.000000000000000284e+02\")     Union{Missing, Float64}\n",
       " Symbol(\"1.000000000000000284e+02\")      Union{Missing, Float64}\n",
       " Symbol(\"0.000000000000000000e+00\")      Union{Missing, Float64}\n",
       " Symbol(\"0.000000000000000000e+00_1\")    Union{Missing, Float64}\n",
       " Symbol(\"0.000000000000000000e+00_2\")    Union{Missing, Float64}\n",
       " Symbol(\"0.000000000000000000e+00_3\")    Union{Missing, Float64}\n",
       " Symbol(\"0.000000000000000000e+00_4\")    Union{Missing, Float64}\n",
       " Symbol(\"0.000000000000000000e+00_5\")    Union{Missing, Float64}\n",
       " Symbol(\"0.000000000000000000e+00_6\")    Union{Missing, Float64}\n",
       " Symbol(\"0.000000000000000000e+00_7\")    Union{Missing, Float64}\n",
       " Symbol(\"0.000000000000000000e+00_8\")    Union{Missing, Float64}\n",
       " Symbol(\"0.000000000000000000e+00_9\")    Union{Missing, Float64}\n",
       " Symbol(\"0.000000000000000000e+00_10\")   Union{Missing, Float64}\n",
       " ⋮                                                              \n",
       " Symbol(\"0.000000000000000000e+00_337\")  Union{Missing, Float64}\n",
       " Symbol(\"0.000000000000000000e+00_338\")  Union{Missing, Float64}\n",
       " Symbol(\"0.000000000000000000e+00_339\")  Union{Missing, Float64}\n",
       " Symbol(\"0.000000000000000000e+00_340\")  Union{Missing, Float64}\n",
       " Symbol(\"0.000000000000000000e+00_341\")  Union{Missing, Float64}\n",
       " Symbol(\"0.000000000000000000e+00_342\")  Union{Missing, Float64}\n",
       " Symbol(\"0.000000000000000000e+00_343\")  Union{Missing, Float64}\n",
       " Symbol(\"0.000000000000000000e+00_344\")  Union{Missing, Float64}\n",
       " Symbol(\"0.000000000000000000e+00_345\")  Union{Missing, Float64}\n",
       " Symbol(\"0.000000000000000000e+00_346\")  Union{Missing, Float64}\n",
       " Symbol(\"0.000000000000000000e+00_347\")  Union{Missing, Float64}\n",
       " Symbol(\"0.000000000000000000e+00_348\")  Union{Missing, Float64}"
      ]
     },
     "execution_count": 8,
     "metadata": {},
     "output_type": "execute_result"
    }
   ],
   "source": [
    "Q_d"
   ]
  },
  {
   "cell_type": "code",
   "execution_count": 21,
   "metadata": {},
   "outputs": [
    {
     "data": {
      "text/plain": [
       "1×21 Array{Float64,2}:\n",
       " 0.367879  0.367879  0.18394  …  5.74599e-17  3.0242e-18  1.5121e-19"
      ]
     },
     "execution_count": 21,
     "metadata": {},
     "output_type": "execute_result"
    }
   ],
   "source": [
    "ODE_obj.u[end,:][1]"
   ]
  },
  {
   "cell_type": "code",
   "execution_count": 9,
   "metadata": {},
   "outputs": [
    {
     "ename": "DimensionMismatch",
     "evalue": "DimensionMismatch(\"dimensions must match\")",
     "output_type": "error",
     "traceback": [
      "DimensionMismatch(\"dimensions must match\")",
      "",
      "Stacktrace:",
      " [1] promote_shape at ./indices.jl:159 [inlined]",
      " [2] promote_shape at ./indices.jl:145 [inlined]",
      " [3] -(::Transpose{Float64,Array{Float64,1}}, ::Array{Array{Float64,2},1}) at ./arraymath.jl:38",
      " [4] top-level scope at In[9]:1"
     ]
    }
   ],
   "source": [
    "true_sol-ODE_sol"
   ]
  },
  {
   "cell_type": "code",
   "execution_count": 2,
   "metadata": {},
   "outputs": [
    {
     "data": {
      "text/plain": [
       "Infinite_Server_dict (generic function with 1 method)"
      ]
     },
     "execution_count": 2,
     "metadata": {},
     "output_type": "execute_result"
    }
   ],
   "source": [
    "function Infinite_Server_dict(mu, lambd, deviations)\n",
    "    S = ceil(Int,lambd/mu + deviations*sqrt(lambd/mu))\n",
    "    dict = Dict()\n",
    "    dict[\"S\"]=S\n",
    "    dict[\"mu\"] = mu\n",
    "    dict[\"lambd\"] = lambd\n",
    "    return dict\n",
    "end\n"
   ]
  },
  {
   "cell_type": "code",
   "execution_count": 36,
   "metadata": {},
   "outputs": [],
   "source": [
    "inf_queue_dicts = Dict()\n",
    "i=1\n",
    "for lambdas in [1.0,10.0,100.0,1000.0]\n",
    "    inf_queue_str = string(i) *\"_Dict_of_\" * string(lambdas)\n",
    "    inf_queue_dicts[inf_queue_str] = Infinite_Server_dict(1.0, lambdas, 10)\n",
    "    i+=1\n",
    "end\n"
   ]
  },
  {
   "cell_type": "code",
   "execution_count": 37,
   "metadata": {},
   "outputs": [
    {
     "data": {
      "text/plain": [
       "20765.4445168972"
      ]
     },
     "execution_count": 37,
     "metadata": {},
     "output_type": "execute_result"
    }
   ],
   "source": [
    "start = time()\n",
    "t_list = [1,2,5]\n",
    "mu = 1\n",
    "for (k,v) in inf_queue_dicts\n",
    "    mu_0 = zeros(1,v[\"S\"]+1)\n",
    "    mu_0[1]=1\n",
    "    errs = []\n",
    "    times = []\n",
    "    for t in t_list\n",
    "        prob = ODEProblem(Infinite_Server_dudt, mu_0, (0.0,t),[mu, v[\"lambd\"], v[\"S\"]])\n",
    "        ODE_timed_obj = @timed solve(prob, alg_hints=\"stiff\",reltol=1e-6,abstol=1e-6) \n",
    "        ODE_obj = ODE_timed_obj[1]\n",
    "        sol_time = ODE_timed_obj[2]\n",
    "        ODE_sol = ODE_obj.u[end,:][1]\n",
    "        true_sol = Infinite_Server_closed_form(v[\"S\"], t, v[\"lambd\"],mu)\n",
    "        append!(errs, norm(true_sol'-ODE_sol))\n",
    "        append!(times, sol_time)           \n",
    "    end\n",
    "    v[\"end_times\"] = t_list\n",
    "    v[\"sol_times\"] = times\n",
    "    v[\"errs\"] = errs\n",
    "end\n",
    "stop = time()\n",
    "stop-start"
   ]
  },
  {
   "cell_type": "code",
   "execution_count": 38,
   "metadata": {},
   "outputs": [
    {
     "name": "stdout",
     "output_type": "stream",
     "text": [
      "11 | 1.0 | 1 | 1.0204193184703763e-10 | 0.002378779\n",
      "11 | 1.0 | 2 | 4.1781518800346423e-10 | 0.000770693\n",
      "11 | 1.0 | 5 | 3.3388355381654946e-8 | 0.009008268\n",
      "42 | 10.0 | 1 | 2.1283766522155667e-9 | 0.294783941\n",
      "42 | 10.0 | 2 | 6.3095790442899505e-9 | 0.388907829\n",
      "42 | 10.0 | 5 | 2.0765627727866455e-8 | 0.238627964\n",
      "200 | 100.0 | 1 | 2.838872619991028e-7 | 3.17572065\n",
      "200 | 100.0 | 2 | 1.058889028518864e-7 | 6.085175236\n",
      "200 | 100.0 | 5 | 3.070068887751289e-8 | 8.618560083\n",
      "1317 | 1000.0 | 1 | 1.9553613348034477e-6 | 4718.662846684\n",
      "1317 | 1000.0 | 2 | 6.389193828060684e-7 | 7463.408848822\n",
      "1317 | 1000.0 | 5 | 8.153789882956996e-8 | 8564.853046891\n"
     ]
    }
   ],
   "source": [
    "for keys in sort(collect(keys(inf_queue_dicts)))\n",
    "    dict = inf_queue_dicts[keys]\n",
    "    i=1\n",
    "    for end_time in dict[\"end_times\"]\n",
    "        print(dict[\"S\"])\n",
    "        print(\" | \")\n",
    "        print(dict[\"lambd\"])\n",
    "        print(\" | \")\n",
    "        print(end_time)\n",
    "        print(\" | \")\n",
    "        print(dict[\"errs\"][i])\n",
    "        print(\" | \")\n",
    "        print(dict[\"sol_times\"][i])\n",
    "        print(\"\\n\")\n",
    "        i+=1        \n",
    "    end\n",
    "end\n"
   ]
  }
 ],
 "metadata": {
  "@webio": {
   "lastCommId": null,
   "lastKernelId": null
  },
  "kernelspec": {
   "display_name": "Julia 1.1.0",
   "language": "julia",
   "name": "julia-1.1"
  },
  "language_info": {
   "file_extension": ".jl",
   "mimetype": "application/julia",
   "name": "julia",
   "version": "1.1.0"
  }
 },
 "nbformat": 4,
 "nbformat_minor": 2
}
